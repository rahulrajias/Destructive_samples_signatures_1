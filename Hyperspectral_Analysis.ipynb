{
 "cells": [
  {
   "cell_type": "code",
   "execution_count": 5,
   "metadata": {},
   "outputs": [],
   "source": [
    "import pandas as pd\n",
    "import numpy as np\n",
    "%matplotlib notebook\n",
    "import matplotlib as mpl\n",
    "mpl.get_backend()\n",
    "import matplotlib.pyplot as plt\n",
    "import tensorflow as tf"
   ]
  },
  {
   "cell_type": "code",
   "execution_count": null,
   "metadata": {},
   "outputs": [],
   "source": [
    "data=pd.read_csv(\"Hyper_data_with_groundtruth_interpolated.csv\")"
   ]
  },
  {
   "cell_type": "code",
   "execution_count": 6,
   "metadata": {},
   "outputs": [
    {
     "name": "stdout",
     "output_type": "stream",
     "text": [
      "combine_csvfiles.ipynb  Dataset.ipynb\r\n",
      "cv2_install_test.py     destructive.ipynb\r\n",
      "D1R1_19_Feb_2018.csv    destructive.py\r\n",
      "D2R1_12_Mar_2018.csv    ground_truth_data.csv\r\n",
      "D2R1_22_Feb_2018.csv    ground_truth_data_interpolated.csv\r\n",
      "D3R1_12_Mar_2018.csv    Ground_truth.ipynb\r\n",
      "D3R1_27_Mar_2018.csv    Hyper_data_with_groundtruth.csv\r\n",
      "D3R2_27_Mar_2018.csv    Hyper_data_with_groundtruth_interpolated.csv\r\n",
      "\u001b[0m\u001b[01;34mdata_12_mar_2018\u001b[0m/       Hyperspectral_Analysis.ipynb\r\n",
      "\u001b[01;34mdata_19_22_feb_2018\u001b[0m/    read_me_12_mar_2018.txt\r\n",
      "\u001b[01;34mdata_27_mar_2018\u001b[0m/       read_me_19_22_feb_2018\r\n",
      "Data_in_out.csv         read_me_corn_27_mar_18.txt\r\n"
     ]
    }
   ],
   "source": [
    "ls"
   ]
  },
  {
   "cell_type": "code",
   "execution_count": null,
   "metadata": {},
   "outputs": [],
   "source": []
  }
 ],
 "metadata": {
  "kernelspec": {
   "display_name": "Python 3",
   "language": "python",
   "name": "python3"
  },
  "language_info": {
   "codemirror_mode": {
    "name": "ipython",
    "version": 3
   },
   "file_extension": ".py",
   "mimetype": "text/x-python",
   "name": "python",
   "nbconvert_exporter": "python",
   "pygments_lexer": "ipython3",
   "version": "3.5.2"
  }
 },
 "nbformat": 4,
 "nbformat_minor": 2
}
